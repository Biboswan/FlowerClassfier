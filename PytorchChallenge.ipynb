{
  "nbformat": 4,
  "nbformat_minor": 0,
  "metadata": {
    "colab": {
      "name": "PytorchChallenge.ipynb",
      "version": "0.3.2",
      "provenance": [],
      "collapsed_sections": [],
      "toc_visible": true,
      "include_colab_link": true
    },
    "kernelspec": {
      "name": "python3",
      "display_name": "Python 3"
    },
    "accelerator": "GPU"
  },
  "cells": [
    {
      "cell_type": "markdown",
      "metadata": {
        "id": "view-in-github",
        "colab_type": "text"
      },
      "source": [
        "<a href=\"https://colab.research.google.com/github/Biboswan/FlowerClassfier/blob/master/PytorchChallenge.ipynb\" target=\"_parent\"><img src=\"https://colab.research.google.com/assets/colab-badge.svg\" alt=\"Open In Colab\"/></a>"
      ]
    },
    {
      "metadata": {
        "id": "nGQSxXO3SVFn",
        "colab_type": "text"
      },
      "cell_type": "markdown",
      "source": [
        "# Developing an AI application\n",
        "\n",
        "Going forward, AI algorithms will be incorporated into more and more everyday applications. For example, you might want to include an image classifier in a smart phone app. To do this, you'd use a deep learning model trained on hundreds of thousands of images as part of the overall application architecture. A large part of software development in the future will be using these types of models as common parts of applications. \n",
        "\n",
        "In this project, you'll train an image classifier to recognize different species of flowers. You can imagine using something like this in a phone app that tells you the name of the flower your camera is looking at. In practice you'd train this classifier, then export it for use in your application. We'll be using [this dataset](http://www.robots.ox.ac.uk/~vgg/data/flowers/102/index.html) of 102 flower categories, you can see a few examples below. \n",
        "\n",
        "<img src='https://github.com/Biboswan/pytorch_challenge/blob/master/assets/Flowers.png?raw=1' width=500px>\n",
        "\n",
        "The project is broken down into multiple steps:\n",
        "\n",
        "* Load and preprocess the image dataset\n",
        "* Train the image classifier on your dataset\n",
        "* Use the trained classifier to predict image content\n",
        "\n",
        "We'll lead you through each part which you'll implement in Python.\n",
        "\n",
        "When you've completed this project, you'll have an application that can be trained on any set of labeled images. Here your network will be learning about flowers and end up as a command line application. But, what you do with your new skills depends on your imagination and effort in building a dataset. For example, imagine an app where you take a picture of a car, it tells you what the make and model is, then looks up information about it. Go build your own dataset and make something new.\n",
        "\n",
        "First up is importing the packages you'll need. It's good practice to keep all the imports at the beginning of your code. As you work through this notebook and find you need to import a package, make sure to add the import up here."
      ]
    },
    {
      "metadata": {
        "id": "prX6XyjiSVFp",
        "colab_type": "code",
        "outputId": "1e561cad-d524-4f56-fa64-e363dfd24f08",
        "colab": {
          "base_uri": "https://localhost:8080/",
          "height": 54
        }
      },
      "cell_type": "code",
      "source": [
        "# Imports here\n",
        "# http://pytorch.org/\n",
        "from os.path import exists\n",
        "from wheel.pep425tags import get_abbr_impl, get_impl_ver, get_abi_tag\n",
        "platform = '{}{}-{}'.format(get_abbr_impl(), get_impl_ver(), get_abi_tag())\n",
        "cuda_output = !ldconfig -p|grep cudart.so|sed -e 's/.*\\.\\([0-9]*\\)\\.\\([0-9]*\\)$/cu\\1\\2/'\n",
        "accelerator = cuda_output[0] if exists('/dev/nvidia0') else 'cpu'\n",
        "\n",
        "!pip install -q http://download.pytorch.org/whl/{accelerator}/torch-0.4.1-{platform}-linux_x86_64.whl torchvision"
      ],
      "execution_count": 0,
      "outputs": [
        {
          "output_type": "stream",
          "text": [
            "tcmalloc: large alloc 1073750016 bytes == 0x57df2000 @  0x7fb07f1662a4 0x591a07 0x5b5d56 0x502e9a 0x506859 0x502209 0x502f3d 0x506859 0x504c28 0x502540 0x502f3d 0x506859 0x504c28 0x502540 0x502f3d 0x506859 0x504c28 0x502540 0x502f3d 0x507641 0x502209 0x502f3d 0x506859 0x504c28 0x502540 0x502f3d 0x507641 0x504c28 0x502540 0x502f3d 0x507641\n"
          ],
          "name": "stdout"
        }
      ]
    },
    {
      "metadata": {
        "id": "AcAGQDJoinCu",
        "colab_type": "code",
        "colab": {}
      },
      "cell_type": "code",
      "source": [
        "import torch\n",
        "from torchvision import datasets, transforms, models\n"
      ],
      "execution_count": 0,
      "outputs": []
    },
    {
      "metadata": {
        "id": "4gILGewffEnk",
        "colab_type": "code",
        "colab": {}
      },
      "cell_type": "code",
      "source": [
        "import json"
      ],
      "execution_count": 0,
      "outputs": []
    },
    {
      "metadata": {
        "id": "a1L8BMQdlCKB",
        "colab_type": "code",
        "colab": {}
      },
      "cell_type": "code",
      "source": [
        "%matplotlib inline\n",
        "%config InlineBackend.figure_format = 'retina'\n",
        "import numpy as np\n",
        "import matplotlib.pyplot as plt\n",
        "from PIL import Image"
      ],
      "execution_count": 0,
      "outputs": []
    },
    {
      "metadata": {
        "id": "8TMmt3xZ_0UU",
        "colab_type": "code",
        "colab": {}
      },
      "cell_type": "code",
      "source": [
        "import torch.nn as nn\n",
        "import torch.nn.functional as F\n",
        "import torch.optim as optim\n",
        "from torch.optim import lr_scheduler"
      ],
      "execution_count": 0,
      "outputs": []
    },
    {
      "metadata": {
        "id": "wImYkKv2eckG",
        "colab_type": "code",
        "outputId": "44d3cec6-ae7e-4b6b-9ea2-42915307b74e",
        "colab": {
          "base_uri": "https://localhost:8080/",
          "height": 190
        }
      },
      "cell_type": "code",
      "source": [
        "!pip install pillow==4.1.1\n",
        "%reload_ext autoreload\n",
        "%autoreload"
      ],
      "execution_count": 0,
      "outputs": [
        {
          "output_type": "stream",
          "text": [
            "Collecting pillow==4.1.1\n",
            "\u001b[?25l  Downloading https://files.pythonhosted.org/packages/36/e5/88b3d60924a3f8476fa74ec086f5fbaba56dd6cee0d82845f883b6b6dd18/Pillow-4.1.1-cp36-cp36m-manylinux1_x86_64.whl (5.7MB)\n",
            "\u001b[K    100% |████████████████████████████████| 5.7MB 7.4MB/s \n",
            "\u001b[?25hRequirement already satisfied: olefile in /usr/local/lib/python3.6/dist-packages (from pillow==4.1.1) (0.46)\n",
            "Installing collected packages: pillow\n",
            "  Found existing installation: Pillow 5.4.0\n",
            "    Uninstalling Pillow-5.4.0:\n",
            "      Successfully uninstalled Pillow-5.4.0\n",
            "Successfully installed pillow-4.1.1\n"
          ],
          "name": "stdout"
        }
      ]
    },
    {
      "metadata": {
        "id": "9zJciKxMURiy",
        "colab_type": "code",
        "colab": {}
      },
      "cell_type": "code",
      "source": [
        "import time\n",
        "import copy"
      ],
      "execution_count": 0,
      "outputs": []
    },
    {
      "metadata": {
        "id": "vDqlueG_SVFt",
        "colab_type": "text"
      },
      "cell_type": "markdown",
      "source": [
        "## Load the data\n",
        "\n",
        "Here you'll use `torchvision` to load the data ([documentation](http://pytorch.org/docs/0.3.0/torchvision/index.html)). You can [download the data here](https://s3.amazonaws.com/content.udacity-data.com/courses/nd188/flower_data.zip). The dataset is split into two parts, training and validation. For the training, you'll want to apply transformations such as random scaling, cropping, and flipping. This will help the network generalize leading to better performance. If you use a pre-trained network, you'll also need to make sure the input data is resized to 224x224 pixels as required by the networks.\n",
        "\n",
        "The validation set is used to measure the model's performance on data it hasn't seen yet. For this you don't want any scaling or rotation transformations, but you'll need to resize then crop the images to the appropriate size.\n",
        "\n",
        "The pre-trained networks available from `torchvision` were trained on the ImageNet dataset where each color channel was normalized separately. For both sets you'll need to normalize the means and standard deviations of the images to what the network expects. For the means, it's `[0.485, 0.456, 0.406]` and for the standard deviations `[0.229, 0.224, 0.225]`, calculated from the ImageNet images.  These values will shift each color channel to be centered at 0 and range from -1 to 1."
      ]
    },
    {
      "metadata": {
        "id": "4crShvO5fj6s",
        "colab_type": "code",
        "outputId": "29215aed-17da-45fd-8198-cd843719e47c",
        "colab": {
          "base_uri": "https://localhost:8080/",
          "height": 34
        }
      },
      "cell_type": "code",
      "source": [
        "!wget -cq https://github.com/udacity/pytorch_challenge/raw/master/cat_to_name.json\n",
        "!wget -cq https://s3.amazonaws.com/content.udacity-data.com/courses/nd188/flower_data.zip\n",
        "!rm -r flower_data || true\n",
        "!unzip -qq flower_data.zip"
      ],
      "execution_count": 0,
      "outputs": [
        {
          "output_type": "stream",
          "text": [
            "rm: cannot remove 'flower_data': No such file or directory\n"
          ],
          "name": "stdout"
        }
      ]
    },
    {
      "metadata": {
        "id": "6-SYyqtega3L",
        "colab_type": "code",
        "outputId": "5ff14088-0f72-470b-ed62-025b567b58cd",
        "colab": {
          "base_uri": "https://localhost:8080/",
          "height": 34
        }
      },
      "cell_type": "code",
      "source": [
        "!ls"
      ],
      "execution_count": 0,
      "outputs": [
        {
          "output_type": "stream",
          "text": [
            "cat_to_name.json  flower_data  flower_data.zip\tsample_data\n"
          ],
          "name": "stdout"
        }
      ]
    },
    {
      "metadata": {
        "id": "y3OlOvbT8x3E",
        "colab_type": "code",
        "outputId": "8b0892d0-975d-420c-9872-2373a104e600",
        "colab": {
          "base_uri": "https://localhost:8080/",
          "height": 34
        }
      },
      "cell_type": "code",
      "source": [
        "torch.manual_seed(7)"
      ],
      "execution_count": 0,
      "outputs": [
        {
          "output_type": "execute_result",
          "data": {
            "text/plain": [
              "<torch._C.Generator at 0x7f44e3fd44b0>"
            ]
          },
          "metadata": {
            "tags": []
          },
          "execution_count": 11
        }
      ]
    },
    {
      "metadata": {
        "id": "fis_rQxGgGA9",
        "colab_type": "code",
        "outputId": "1801c0d0-920a-4447-c0be-05b4d523ef58",
        "colab": {
          "base_uri": "https://localhost:8080/",
          "height": 153
        }
      },
      "cell_type": "code",
      "source": [
        "import cv2\n",
        "img = cv2.imread('/content/flower_data/train/1/image_06734.jpg')\n",
        "print(img.shape)\n",
        "print(img[455])"
      ],
      "execution_count": 0,
      "outputs": [
        {
          "output_type": "stream",
          "text": [
            "(500, 523, 3)\n",
            "[[  7  16   3]\n",
            " [  7  16   3]\n",
            " [  7  16   3]\n",
            " ...\n",
            " [ 69 126  95]\n",
            " [ 69 126  95]\n",
            " [ 70 127  96]]\n"
          ],
          "name": "stdout"
        }
      ]
    },
    {
      "metadata": {
        "id": "nx09pgRPSVFu",
        "colab_type": "code",
        "colab": {}
      },
      "cell_type": "code",
      "source": [
        "data_dir = '/content/flower_data'\n",
        "train_dir = data_dir + '/train'\n",
        "valid_dir = data_dir + '/valid'"
      ],
      "execution_count": 0,
      "outputs": []
    },
    {
      "metadata": {
        "id": "xLtcpuzpSVFy",
        "colab_type": "code",
        "colab": {}
      },
      "cell_type": "code",
      "source": [
        "# TODO: Define your transforms for the training and validation sets\n",
        "train_transforms = transforms.Compose([transforms.RandomRotation(30),\n",
        "                                       transforms.RandomResizedCrop(224),\n",
        "                                       transforms.RandomHorizontalFlip(),\n",
        "                                       transforms.ToTensor(),\n",
        "                                       transforms.Normalize([0.485, 0.456, 0.406],\n",
        "                                                            [0.229, 0.224, 0.225])])\n",
        "\n",
        "valid_transforms = transforms.Compose([transforms.Resize(255),\n",
        "                                      transforms.CenterCrop(224),\n",
        "                                      transforms.ToTensor(),\n",
        "                                      transforms.Normalize([0.485, 0.456, 0.406],\n",
        "                                                           [0.229, 0.224, 0.225])])\n",
        "# TODO: Load the datasets with ImageFolder\n",
        "train_data = datasets.ImageFolder(train_dir, transform=train_transforms)\n",
        "valid_data = datasets.ImageFolder(valid_dir, transform=valid_transforms)\n",
        "\n",
        "# TODO: Using the image datasets and the trainforms, define the dataloaders\n",
        "train_dataloader = torch.utils.data.DataLoader(train_data, batch_size=32, shuffle=True)\n",
        "valid_dataloader = torch.utils.data.DataLoader(valid_data, batch_size=32)"
      ],
      "execution_count": 0,
      "outputs": []
    },
    {
      "metadata": {
        "id": "rZF0utxL0He3",
        "colab_type": "code",
        "outputId": "128e82c5-24c3-4575-ae18-fc65c916c835",
        "colab": {
          "base_uri": "https://localhost:8080/",
          "height": 139
        }
      },
      "cell_type": "code",
      "source": [
        "images, labels = next(iter(train_dataloader))\n",
        "print(images.shape)\n",
        "print(labels)\n",
        "print(labels.data)\n",
        "print(train_data.classes)"
      ],
      "execution_count": 0,
      "outputs": [
        {
          "output_type": "stream",
          "text": [
            "torch.Size([32, 3, 224, 224])\n",
            "tensor([49, 71, 82, 54, 73, 16, 44, 56, 47, 64, 73, 76, 73, 50, 96, 57, 23, 47,\n",
            "        53, 14, 33, 13, 89, 97, 58, 32, 80, 14, 86, 33, 83, 43])\n",
            "tensor([49, 71, 82, 54, 73, 16, 44, 56, 47, 64, 73, 76, 73, 50, 96, 57, 23, 47,\n",
            "        53, 14, 33, 13, 89, 97, 58, 32, 80, 14, 86, 33, 83, 43])\n",
            "['1', '10', '100', '101', '102', '11', '12', '13', '14', '15', '16', '17', '18', '19', '2', '20', '21', '22', '23', '24', '25', '26', '27', '28', '29', '3', '30', '31', '32', '33', '34', '35', '36', '37', '38', '39', '4', '40', '41', '42', '43', '44', '45', '46', '47', '48', '49', '5', '50', '51', '52', '53', '54', '55', '56', '57', '58', '59', '6', '60', '61', '62', '63', '64', '65', '66', '67', '68', '69', '7', '70', '71', '72', '73', '74', '75', '76', '77', '78', '79', '8', '80', '81', '82', '83', '84', '85', '86', '87', '88', '89', '9', '90', '91', '92', '93', '94', '95', '96', '97', '98', '99']\n"
          ],
          "name": "stdout"
        }
      ]
    },
    {
      "metadata": {
        "id": "NVvrcONlSVF1",
        "colab_type": "text"
      },
      "cell_type": "markdown",
      "source": [
        "### Label mapping\n",
        "\n",
        "You'll also need to load in a mapping from category label to category name. You can find this in the file `cat_to_name.json`. It's a JSON object which you can read in with the [`json` module](https://docs.python.org/2/library/json.html). This will give you a dictionary mapping the integer encoded categories to the actual names of the flowers."
      ]
    },
    {
      "metadata": {
        "id": "Ol8LLMn2SVF2",
        "colab_type": "code",
        "colab": {}
      },
      "cell_type": "code",
      "source": [
        "with open('cat_to_name.json', 'r') as f:\n",
        "    cat_label = json.load(f)"
      ],
      "execution_count": 0,
      "outputs": []
    },
    {
      "metadata": {
        "id": "EENceg0IfIWq",
        "colab_type": "code",
        "outputId": "01a7bd43-0f24-4ea8-fba6-701dc50cb9b3",
        "colab": {
          "base_uri": "https://localhost:8080/",
          "height": 54
        }
      },
      "cell_type": "code",
      "source": [
        "print(cat_label)"
      ],
      "execution_count": 0,
      "outputs": [
        {
          "output_type": "stream",
          "text": [
            "{'21': 'fire lily', '3': 'canterbury bells', '45': 'bolero deep blue', '1': 'pink primrose', '34': 'mexican aster', '27': 'prince of wales feathers', '7': 'moon orchid', '16': 'globe-flower', '25': 'grape hyacinth', '26': 'corn poppy', '79': 'toad lily', '39': 'siam tulip', '24': 'red ginger', '67': 'spring crocus', '35': 'alpine sea holly', '32': 'garden phlox', '10': 'globe thistle', '6': 'tiger lily', '93': 'ball moss', '33': 'love in the mist', '9': 'monkshood', '102': 'blackberry lily', '14': 'spear thistle', '19': 'balloon flower', '100': 'blanket flower', '13': 'king protea', '49': 'oxeye daisy', '15': 'yellow iris', '61': 'cautleya spicata', '31': 'carnation', '64': 'silverbush', '68': 'bearded iris', '63': 'black-eyed susan', '69': 'windflower', '62': 'japanese anemone', '20': 'giant white arum lily', '38': 'great masterwort', '4': 'sweet pea', '86': 'tree mallow', '101': 'trumpet creeper', '42': 'daffodil', '22': 'pincushion flower', '2': 'hard-leaved pocket orchid', '54': 'sunflower', '66': 'osteospermum', '70': 'tree poppy', '85': 'desert-rose', '99': 'bromelia', '87': 'magnolia', '5': 'english marigold', '92': 'bee balm', '28': 'stemless gentian', '97': 'mallow', '57': 'gaura', '40': 'lenten rose', '47': 'marigold', '59': 'orange dahlia', '48': 'buttercup', '55': 'pelargonium', '36': 'ruby-lipped cattleya', '91': 'hippeastrum', '29': 'artichoke', '71': 'gazania', '90': 'canna lily', '18': 'peruvian lily', '98': 'mexican petunia', '8': 'bird of paradise', '30': 'sweet william', '17': 'purple coneflower', '52': 'wild pansy', '84': 'columbine', '12': \"colt's foot\", '11': 'snapdragon', '96': 'camellia', '23': 'fritillary', '50': 'common dandelion', '44': 'poinsettia', '53': 'primula', '72': 'azalea', '65': 'californian poppy', '80': 'anthurium', '76': 'morning glory', '37': 'cape flower', '56': 'bishop of llandaff', '60': 'pink-yellow dahlia', '82': 'clematis', '58': 'geranium', '75': 'thorn apple', '41': 'barbeton daisy', '95': 'bougainvillea', '43': 'sword lily', '83': 'hibiscus', '78': 'lotus lotus', '88': 'cyclamen', '94': 'foxglove', '81': 'frangipani', '74': 'rose', '89': 'watercress', '73': 'water lily', '46': 'wallflower', '77': 'passion flower', '51': 'petunia'}\n"
          ],
          "name": "stdout"
        }
      ]
    },
    {
      "metadata": {
        "id": "8dGOnpGWSVF5",
        "colab_type": "text"
      },
      "cell_type": "markdown",
      "source": [
        "# Building and training the classifier\n",
        "\n",
        "Now that the data is ready, it's time to build and train the classifier. As usual, you should use one of the pretrained models from `torchvision.models` to get the image features. Build and train a new feed-forward classifier using those features.\n",
        "\n",
        "We're going to leave this part up to you. If you want to talk through it with someone, chat with your fellow students! You can also ask questions on the forums or join the instructors in office hours.\n",
        "\n",
        "Refer to [the rubric](https://review.udacity.com/#!/rubrics/1663/view) for guidance on successfully completing this section. Things you'll need to do:\n",
        "\n",
        "* Load a [pre-trained network](http://pytorch.org/docs/master/torchvision/models.html) (If you need a starting point, the VGG networks work great and are straightforward to use)\n",
        "* Define a new, untrained feed-forward network as a classifier, using ReLU activations and dropout\n",
        "* Train the classifier layers using backpropagation using the pre-trained network to get the features\n",
        "* Track the loss and accuracy on the validation set to determine the best hyperparameters\n",
        "\n",
        "We've left a cell open for you below, but use as many as you need. Our advice is to break the problem up into smaller parts you can run separately. Check that each part is doing what you expect, then move on to the next. You'll likely find that as you work through each part, you'll need to go back and modify your previous code. This is totally normal!\n",
        "\n",
        "When training make sure you're updating only the weights of the feed-forward network. You should be able to get the validation accuracy above 70% if you build everything right. Make sure to try different hyperparameters (learning rate, units in the classifier, epochs, etc) to find the best model. Save those hyperparameters to use as default values in the next part of the project."
      ]
    },
    {
      "metadata": {
        "id": "9P2FF-ftSVF6",
        "colab_type": "code",
        "colab": {}
      },
      "cell_type": "code",
      "source": [
        "# TODO: Build and train your network"
      ],
      "execution_count": 0,
      "outputs": []
    },
    {
      "metadata": {
        "id": "aar0b_tZg3Dz",
        "colab_type": "code",
        "outputId": "01a72156-63a7-4ef2-c91a-ac82539a8534",
        "colab": {
          "base_uri": "https://localhost:8080/",
          "height": 34
        }
      },
      "cell_type": "code",
      "source": [
        "device = torch.device(\"cuda:0\" if torch.cuda.is_available() else \"cpu\")\n",
        "print(device)"
      ],
      "execution_count": 0,
      "outputs": [
        {
          "output_type": "stream",
          "text": [
            "cuda:0\n"
          ],
          "name": "stdout"
        }
      ]
    },
    {
      "metadata": {
        "id": "cf55Mp4eiIzE",
        "colab_type": "code",
        "outputId": "3ee2e8ab-1612-4cb9-db12-fb2a8a56c58e",
        "colab": {
          "base_uri": "https://localhost:8080/",
          "height": 71
        }
      },
      "cell_type": "code",
      "source": [
        "model_ft = models.resnet50(pretrained=True)"
      ],
      "execution_count": 0,
      "outputs": [
        {
          "output_type": "stream",
          "text": [
            "Downloading: \"https://download.pytorch.org/models/resnet50-19c8e357.pth\" to /root/.torch/models/resnet50-19c8e357.pth\n",
            "100%|██████████| 102502400/102502400 [00:01<00:00, 81781994.25it/s]\n"
          ],
          "name": "stderr"
        }
      ]
    },
    {
      "metadata": {
        "id": "6n_KGuDUue3A",
        "colab_type": "code",
        "outputId": "c5351fbf-6eaa-4070-9f34-ba5b3e5ff5df",
        "colab": {
          "base_uri": "https://localhost:8080/",
          "height": 71
        }
      },
      "cell_type": "code",
      "source": [
        "vegnet = models.vgg19_bn(pretrained=True)"
      ],
      "execution_count": 0,
      "outputs": [
        {
          "output_type": "stream",
          "text": [
            "Downloading: \"https://download.pytorch.org/models/vgg19_bn-c79401a0.pth\" to /root/.torch/models/vgg19_bn-c79401a0.pth\n",
            "100%|██████████| 574769405/574769405 [00:07<00:00, 80443063.09it/s]\n"
          ],
          "name": "stderr"
        }
      ]
    },
    {
      "metadata": {
        "id": "SKyzjX_kw4eT",
        "colab_type": "code",
        "outputId": "fefa87a7-6075-4c0f-bcdc-eac6d8bee125",
        "colab": {
          "base_uri": "https://localhost:8080/",
          "height": 241
        }
      },
      "cell_type": "code",
      "source": [
        "print(len(train_dataloader.dataset))"
      ],
      "execution_count": 0,
      "outputs": [
        {
          "output_type": "stream",
          "text": [
            "6552\n",
            "Dataset ImageFolder\n",
            "    Number of datapoints: 6552\n",
            "    Root Location: /content/flower_data/train\n",
            "    Transforms (if any): Compose(\n",
            "                             RandomRotation(degrees=(-30, 30), resample=False, expand=False)\n",
            "                             RandomResizedCrop(size=(224, 224), scale=(0.08, 1.0), ratio=(0.75, 1.3333), interpolation=PIL.Image.BILINEAR)\n",
            "                             RandomHorizontalFlip(p=0.5)\n",
            "                             ToTensor()\n",
            "                             Normalize(mean=[0.485, 0.456, 0.406], std=[0.229, 0.224, 0.225])\n",
            "                         )\n",
            "    Target Transforms (if any): None\n"
          ],
          "name": "stdout"
        }
      ]
    },
    {
      "metadata": {
        "id": "k6g_UC9Jnt2E",
        "colab_type": "code",
        "colab": {}
      },
      "cell_type": "code",
      "source": [
        ""
      ],
      "execution_count": 0,
      "outputs": []
    },
    {
      "metadata": {
        "id": "iQ2vyxl7HW0a",
        "colab_type": "code",
        "colab": {}
      },
      "cell_type": "code",
      "source": [
        "def train_model(model, criterion, optimizer,epochs):\n",
        "  start_time = time.time()\n",
        "  best_model_wts = copy.deepcopy(model.state_dict())\n",
        "  best_acc = 0.0\n",
        "  train_losses = []\n",
        "  valid_losses = []\n",
        "  for e in range(epochs):\n",
        "    print('Epoch:',e)\n",
        "    print('-' * 10)\n",
        "    train_loss = 0.0\n",
        "    valid_loss = 0.0\n",
        "    train_acc = 0.0\n",
        "    valid_acc = 0.0\n",
        "    Train_totalEquals = torch.tensor([], device=device, dtype=torch.uint8)\n",
        "    Valid_totalEquals = torch.tensor([], device=device, dtype=torch.uint8)\n",
        "  \n",
        "    model.train()\n",
        "    print(Train_totalEquals)\n",
        "    for images,labels in train_dataloader:\n",
        "      images, labels = images.to(device), labels.to(device)\n",
        "      optimizer.zero_grad()\n",
        "      outputs = model(images)\n",
        " \n",
        "      loss = criterion(outputs,labels)\n",
        "      ps = F.softmax(outputs, dim=1)\n",
        "      top_p, top_class = ps.topk(1,dim=1)\n",
        "      equals = top_class == labels.view(*top_class.shape)\n",
        "      Train_totalEquals = torch.cat((Train_totalEquals,equals),0)\n",
        "      \n",
        "      loss.backward()\n",
        "      optimizer.step()\n",
        "      train_loss +=loss.item()\n",
        "    else:\n",
        "      with torch.no_grad():\n",
        "        model.eval()\n",
        "        for images,labels in valid_dataloader:\n",
        "          images, labels = images.to(device), labels.to(device)\n",
        "          outputs = model(images)\n",
        "         \n",
        "          loss = criterion(outputs,labels)\n",
        "          valid_loss += loss.item()\n",
        "          ps = F.softmax(outputs, dim=1)\n",
        "          top_p, top_class = ps.topk(1,dim=1)\n",
        "          equals = top_class == labels.view(*top_class.shape)\n",
        "          Valid_totalEquals = torch.cat((Valid_totalEquals,equals),0)\n",
        "      \n",
        "        train_loss = train_loss/len(train_dataloader)\n",
        "        valid_loss = valid_loss/len(valid_dataloader)\n",
        "    \n",
        "        train_losses.append(train_loss)\n",
        "        valid_losses.append(valid_loss)\n",
        "    \n",
        "       \n",
        "        Train_totalEquals = torch.mean(Train_totalEquals.type(torch.cuda.FloatTensor))\n",
        "        Valid_totalAcc = torch.mean(Valid_totalEquals.type(torch.cuda.FloatTensor))\n",
        "        \n",
        "        \n",
        "        if Valid_totalAcc >= best_acc:\n",
        "          best_acc = Valid_totalAcc\n",
        "          checkpoint = {\n",
        "              'epoch_no': e,\n",
        "              'state_dict':  copy.deepcopy(model.state_dict()),\n",
        "              'optimizer_value' : copy.deepcopy(optimizer.state_dict())}\n",
        "          torch.save(checkpoint,'checkpoint.pth')\n",
        "        \n",
        "        print('Training Loss:',train_loss)\n",
        "        print('Validation Loss:',valid_loss)\n",
        "        print(f'Training Accuracy: {Train_totalEquals.item()*100}%')\n",
        "        print(f'Validation Accuracy: {Valid_totalAcc.item()*100}%')\n",
        "      \n",
        "  time_elapsed = time.time() - start_time\n",
        "  print('Time:',time_elapsed/60)\n",
        "    \n",
        "  "
      ],
      "execution_count": 0,
      "outputs": []
    },
    {
      "metadata": {
        "id": "CpusGQMuL7gG",
        "colab_type": "code",
        "colab": {}
      },
      "cell_type": "code",
      "source": [
        "for params in model_ft.parameters():\n",
        "    params.requires_grad = False\n",
        "\n",
        "num_ftrs = model_ft.fc.in_features\n",
        "model_ft.fc = nn.Sequential(nn.Linear(num_ftrs,1024),\n",
        "                            nn.ReLU(),\n",
        "                            nn.Dropout(0.2),\n",
        "                            nn.Linear(1024, 256),\n",
        "                            nn.ReLU(),\n",
        "                            nn.Dropout(0.2),\n",
        "                            nn.Linear(256, 102),\n",
        "                           )\n",
        "                           \n",
        "model_ft = model_ft.to(device)\n",
        "\n",
        "criterion = nn.CrossEntropyLoss()\n",
        "\n",
        "# Observe that all parameters are being optimized\n",
        "optimizer_ft = optim.SGD(model_ft.fc.parameters(), lr=0.002, momentum=0.9)\n"
      ],
      "execution_count": 0,
      "outputs": []
    },
    {
      "metadata": {
        "id": "qtmwI62mTUpr",
        "colab_type": "code",
        "outputId": "b9852fba-be49-4dfe-ab6d-11036bc2e452",
        "colab": {
          "base_uri": "https://localhost:8080/",
          "height": 3604
        }
      },
      "cell_type": "code",
      "source": [
        "train_model(model_ft, criterion, optimizer_ft,30)"
      ],
      "execution_count": 0,
      "outputs": [
        {
          "output_type": "stream",
          "text": [
            "Epoch: 0\n",
            "----------\n",
            "tensor([], device='cuda:0', dtype=torch.uint8)\n",
            "Training Loss: 4.51860335047652\n",
            "Validation Loss: 4.369577334477351\n",
            "Training Accuracy: 3.76984141767025%\n",
            "Validation Accuracy: 11.369193345308304%\n",
            "Epoch: 1\n",
            "----------\n",
            "tensor([], device='cuda:0', dtype=torch.uint8)\n",
            "Training Loss: 4.262518264026177\n",
            "Validation Loss: 3.928148709810697\n",
            "Training Accuracy: 9.82905998826027%\n",
            "Validation Accuracy: 16.13692045211792%\n",
            "Epoch: 2\n",
            "----------\n",
            "tensor([], device='cuda:0', dtype=torch.uint8)\n",
            "Training Loss: 3.68866278950761\n",
            "Validation Loss: 3.0592451508228597\n",
            "Training Accuracy: 21.184371411800385%\n",
            "Validation Accuracy: 31.66259229183197%\n",
            "Epoch: 3\n",
            "----------\n",
            "tensor([], device='cuda:0', dtype=torch.uint8)\n",
            "Training Loss: 2.91805342116007\n",
            "Validation Loss: 2.2006242940059075\n",
            "Training Accuracy: 33.69963467121124%\n",
            "Validation Accuracy: 45.23227512836456%\n",
            "Epoch: 4\n",
            "----------\n",
            "tensor([], device='cuda:0', dtype=torch.uint8)\n",
            "Training Loss: 2.300616533000295\n",
            "Validation Loss: 1.6444611365978534\n",
            "Training Accuracy: 43.986570835113525%\n",
            "Validation Accuracy: 58.06846022605896%\n",
            "Epoch: 5\n",
            "----------\n",
            "tensor([], device='cuda:0', dtype=torch.uint8)\n",
            "Training Loss: 1.8999409739564104\n",
            "Validation Loss: 1.1814031623877013\n",
            "Training Accuracy: 51.77045464515686%\n",
            "Validation Accuracy: 69.80440616607666%\n",
            "Epoch: 6\n",
            "----------\n",
            "tensor([], device='cuda:0', dtype=torch.uint8)\n",
            "Training Loss: 1.5918144150478084\n",
            "Validation Loss: 0.9984171940730169\n",
            "Training Accuracy: 58.54700803756714%\n",
            "Validation Accuracy: 74.57212805747986%\n",
            "Epoch: 7\n",
            "----------\n",
            "tensor([], device='cuda:0', dtype=torch.uint8)\n",
            "Training Loss: 1.3828409732841864\n",
            "Validation Loss: 0.8505324709873933\n",
            "Training Accuracy: 64.08730149269104%\n",
            "Validation Accuracy: 76.2836217880249%\n",
            "Epoch: 8\n",
            "----------\n",
            "tensor([], device='cuda:0', dtype=torch.uint8)\n",
            "Training Loss: 1.2694912924999144\n",
            "Validation Loss: 0.7496415032790258\n",
            "Training Accuracy: 66.16300344467163%\n",
            "Validation Accuracy: 78.7286102771759%\n",
            "Epoch: 9\n",
            "----------\n",
            "tensor([], device='cuda:0', dtype=torch.uint8)\n",
            "Training Loss: 1.1550737322830573\n",
            "Validation Loss: 0.6914777463445296\n",
            "Training Accuracy: 68.83394718170166%\n",
            "Validation Accuracy: 81.54034614562988%\n",
            "Epoch: 10\n",
            "----------\n",
            "tensor([], device='cuda:0', dtype=torch.uint8)\n",
            "Training Loss: 1.0831021393217692\n",
            "Validation Loss: 0.6488810147230442\n",
            "Training Accuracy: 70.75702548027039%\n",
            "Validation Accuracy: 82.51833915710449%\n",
            "Epoch: 11\n",
            "----------\n",
            "tensor([], device='cuda:0', dtype=torch.uint8)\n",
            "Training Loss: 1.0016948007955784\n",
            "Validation Loss: 0.5066338777542114\n",
            "Training Accuracy: 72.57326245307922%\n",
            "Validation Accuracy: 88.14181089401245%\n",
            "Epoch: 12\n",
            "----------\n",
            "tensor([], device='cuda:0', dtype=torch.uint8)\n",
            "Training Loss: 0.9879694672619425\n",
            "Validation Loss: 0.4915887965605809\n",
            "Training Accuracy: 73.2600748538971%\n",
            "Validation Accuracy: 87.4083161354065%\n",
            "Epoch: 13\n",
            "----------\n",
            "tensor([], device='cuda:0', dtype=torch.uint8)\n",
            "Training Loss: 0.9251306878357399\n",
            "Validation Loss: 0.4836502270056651\n",
            "Training Accuracy: 74.4505524635315%\n",
            "Validation Accuracy: 87.65281438827515%\n",
            "Epoch: 14\n",
            "----------\n",
            "tensor([], device='cuda:0', dtype=torch.uint8)\n",
            "Training Loss: 0.8698844200227319\n",
            "Validation Loss: 0.4313377004403334\n",
            "Training Accuracy: 75.82417726516724%\n",
            "Validation Accuracy: 88.87531161308289%\n",
            "Epoch: 15\n",
            "----------\n",
            "tensor([], device='cuda:0', dtype=torch.uint8)\n",
            "Training Loss: 0.8360709898355531\n",
            "Validation Loss: 0.4127499610185623\n",
            "Training Accuracy: 77.12149024009705%\n",
            "Validation Accuracy: 89.8533046245575%\n",
            "Epoch: 16\n",
            "----------\n",
            "tensor([], device='cuda:0', dtype=torch.uint8)\n",
            "Training Loss: 0.8098080947631743\n",
            "Validation Loss: 0.4013143817965801\n",
            "Training Accuracy: 78.17460894584656%\n",
            "Validation Accuracy: 90.09780287742615%\n",
            "Epoch: 17\n",
            "----------\n",
            "tensor([], device='cuda:0', dtype=torch.uint8)\n",
            "Training Loss: 0.7697380506410831\n",
            "Validation Loss: 0.38800479700932133\n",
            "Training Accuracy: 78.47985625267029%\n",
            "Validation Accuracy: 89.8533046245575%\n",
            "Epoch: 18\n",
            "----------\n",
            "tensor([], device='cuda:0', dtype=torch.uint8)\n",
            "Training Loss: 0.7731573219706372\n",
            "Validation Loss: 0.36415906021228206\n",
            "Training Accuracy: 78.44933271408081%\n",
            "Validation Accuracy: 90.22005200386047%\n",
            "Epoch: 19\n",
            "----------\n",
            "tensor([], device='cuda:0', dtype=torch.uint8)\n",
            "Training Loss: 0.7263708783359062\n",
            "Validation Loss: 0.3637035059241148\n",
            "Training Accuracy: 80.64713478088379%\n",
            "Validation Accuracy: 90.70904850959778%\n",
            "Epoch: 20\n",
            "----------\n",
            "tensor([], device='cuda:0', dtype=torch.uint8)\n",
            "Training Loss: 0.68302327728853\n",
            "Validation Loss: 0.31146891701679963\n",
            "Training Accuracy: 80.99817037582397%\n",
            "Validation Accuracy: 92.17604398727417%\n",
            "Epoch: 21\n",
            "----------\n",
            "tensor([], device='cuda:0', dtype=torch.uint8)\n",
            "Training Loss: 0.6982384640269164\n",
            "Validation Loss: 0.3349939693625157\n",
            "Training Accuracy: 80.92185854911804%\n",
            "Validation Accuracy: 92.05379486083984%\n",
            "Epoch: 22\n",
            "----------\n",
            "tensor([], device='cuda:0', dtype=torch.uint8)\n",
            "Training Loss: 0.6770600545697096\n",
            "Validation Loss: 0.3495671668877968\n",
            "Training Accuracy: 81.02869391441345%\n",
            "Validation Accuracy: 90.70904850959778%\n",
            "Epoch: 23\n",
            "----------\n",
            "tensor([], device='cuda:0', dtype=torch.uint8)\n",
            "Training Loss: 0.6398526360348957\n",
            "Validation Loss: 0.32762818382336545\n",
            "Training Accuracy: 82.57021307945251%\n",
            "Validation Accuracy: 90.8312976360321%\n",
            "Epoch: 24\n",
            "----------\n",
            "tensor([], device='cuda:0', dtype=torch.uint8)\n",
            "Training Loss: 0.6253705322015576\n",
            "Validation Loss: 0.2970966243973145\n",
            "Training Accuracy: 82.58547186851501%\n",
            "Validation Accuracy: 92.2982931137085%\n",
            "Epoch: 25\n",
            "----------\n",
            "tensor([], device='cuda:0', dtype=torch.uint8)\n",
            "Training Loss: 0.6300708600660649\n",
            "Validation Loss: 0.31094610117948973\n",
            "Training Accuracy: 82.46337175369263%\n",
            "Validation Accuracy: 91.56479835510254%\n",
            "Epoch: 26\n",
            "----------\n",
            "tensor([], device='cuda:0', dtype=torch.uint8)\n",
            "Training Loss: 0.6283001330567569\n",
            "Validation Loss: 0.28422157351787275\n",
            "Training Accuracy: 82.46337175369263%\n",
            "Validation Accuracy: 93.2762861251831%\n",
            "Epoch: 27\n",
            "----------\n",
            "tensor([], device='cuda:0', dtype=torch.uint8)\n",
            "Training Loss: 0.6159512168023644\n",
            "Validation Loss: 0.3082253526036556\n",
            "Training Accuracy: 82.53968358039856%\n",
            "Validation Accuracy: 91.68704748153687%\n",
            "Epoch: 28\n",
            "----------\n",
            "tensor([], device='cuda:0', dtype=torch.uint8)\n",
            "Training Loss: 0.606502524672485\n",
            "Validation Loss: 0.26602100007809126\n",
            "Training Accuracy: 83.11966061592102%\n",
            "Validation Accuracy: 93.15403699874878%\n",
            "Epoch: 29\n",
            "----------\n",
            "tensor([], device='cuda:0', dtype=torch.uint8)\n",
            "Training Loss: 0.5725051019249893\n",
            "Validation Loss: 0.28547223657369614\n",
            "Training Accuracy: 83.91331434249878%\n",
            "Validation Accuracy: 92.90953874588013%\n",
            "Time: 65.14380950530371\n"
          ],
          "name": "stdout"
        }
      ]
    },
    {
      "metadata": {
        "id": "yGHaN_iTPUMu",
        "colab_type": "code",
        "outputId": "13959035-7d16-4858-f56d-2122f6ce4256",
        "colab": {
          "base_uri": "https://localhost:8080/",
          "height": 197
        }
      },
      "cell_type": "code",
      "source": [
        "plt.plot(train_losses, label='Training loss')\n",
        "plt.plot(valid_losses, label='Validation loss')\n",
        "plt.legend(frameon=False)"
      ],
      "execution_count": 0,
      "outputs": [
        {
          "output_type": "error",
          "ename": "NameError",
          "evalue": "ignored",
          "traceback": [
            "\u001b[0;31m---------------------------------------------------------------------------\u001b[0m",
            "\u001b[0;31mNameError\u001b[0m                                 Traceback (most recent call last)",
            "\u001b[0;32m<ipython-input-32-c510272a4f32>\u001b[0m in \u001b[0;36m<module>\u001b[0;34m()\u001b[0m\n\u001b[0;32m----> 1\u001b[0;31m \u001b[0mplt\u001b[0m\u001b[0;34m.\u001b[0m\u001b[0mplot\u001b[0m\u001b[0;34m(\u001b[0m\u001b[0mtrain_losses\u001b[0m\u001b[0;34m,\u001b[0m \u001b[0mlabel\u001b[0m\u001b[0;34m=\u001b[0m\u001b[0;34m'Training loss'\u001b[0m\u001b[0;34m)\u001b[0m\u001b[0;34m\u001b[0m\u001b[0;34m\u001b[0m\u001b[0m\n\u001b[0m\u001b[1;32m      2\u001b[0m \u001b[0mplt\u001b[0m\u001b[0;34m.\u001b[0m\u001b[0mplot\u001b[0m\u001b[0;34m(\u001b[0m\u001b[0mvalid_losses\u001b[0m\u001b[0;34m,\u001b[0m \u001b[0mlabel\u001b[0m\u001b[0;34m=\u001b[0m\u001b[0;34m'Validation loss'\u001b[0m\u001b[0;34m)\u001b[0m\u001b[0;34m\u001b[0m\u001b[0;34m\u001b[0m\u001b[0m\n\u001b[1;32m      3\u001b[0m \u001b[0mplt\u001b[0m\u001b[0;34m.\u001b[0m\u001b[0mlegend\u001b[0m\u001b[0;34m(\u001b[0m\u001b[0mframeon\u001b[0m\u001b[0;34m=\u001b[0m\u001b[0;32mFalse\u001b[0m\u001b[0;34m)\u001b[0m\u001b[0;34m\u001b[0m\u001b[0;34m\u001b[0m\u001b[0m\n",
            "\u001b[0;31mNameError\u001b[0m: name 'train_losses' is not defined"
          ]
        }
      ]
    },
    {
      "metadata": {
        "id": "Xp1h-n0JSVF8",
        "colab_type": "text"
      },
      "cell_type": "markdown",
      "source": [
        "## Save the checkpoint\n",
        "\n",
        "Now that your network is trained, save the model so you can load it later for making predictions. You probably want to save other things such as the mapping of classes to indices which you get from one of the image datasets: `image_datasets['train'].class_to_idx`. You can attach this to the model as an attribute which makes inference easier later on.\n",
        "\n",
        "```model.class_to_idx = image_datasets['train'].class_to_idx```\n",
        "\n",
        "Remember that you'll want to completely rebuild the model later so you can use it for inference. Make sure to include any information you need in the checkpoint. If you want to load the model and keep training, you'll want to save the number of epochs as well as the optimizer state, `optimizer.state_dict`. You'll likely want to use this trained model in the next part of the project, so best to save it now."
      ]
    },
    {
      "metadata": {
        "id": "ii_mSvpASVF-",
        "colab_type": "code",
        "colab": {}
      },
      "cell_type": "code",
      "source": [
        "# TODO: Save the checkpoint "
      ],
      "execution_count": 0,
      "outputs": []
    },
    {
      "metadata": {
        "id": "tUWsFZ3sMlW0",
        "colab_type": "code",
        "colab": {}
      },
      "cell_type": "code",
      "source": [
        "final_model = torch.load('/content/checkpoint.pth')\n",
        "torch.save(final_model,'final_model.pth')"
      ],
      "execution_count": 0,
      "outputs": []
    },
    {
      "metadata": {
        "id": "8R9I6QJ7SVGB",
        "colab_type": "text"
      },
      "cell_type": "markdown",
      "source": [
        "## Loading the checkpoint\n",
        "\n",
        "At this point it's good to write a function that can load a checkpoint and rebuild the model. That way you can come back to this project and keep working on it without having to retrain the network."
      ]
    },
    {
      "metadata": {
        "id": "JClhGNLuSVGC",
        "colab_type": "code",
        "colab": {}
      },
      "cell_type": "code",
      "source": [
        "# TODO: Write a function that loads a checkpoint and rebuilds the model\n",
        "model_ft.load_state_dict(torch.load('final_model.pth')['state_dict'])"
      ],
      "execution_count": 0,
      "outputs": []
    },
    {
      "metadata": {
        "id": "AzZPt6UZSVGI",
        "colab_type": "text"
      },
      "cell_type": "markdown",
      "source": [
        "# Inference for classification\n",
        "\n",
        "Now you'll write a function to use a trained network for inference. That is, you'll pass an image into the network and predict the class of the flower in the image. Write a function called `predict` that takes an image and a model, then returns the top $K$ most likely classes along with the probabilities. It should look like \n",
        "\n",
        "```python\n",
        "probs, classes = predict(image_path, model)\n",
        "print(probs)\n",
        "print(classes)\n",
        "> [ 0.01558163  0.01541934  0.01452626  0.01443549  0.01407339]\n",
        "> ['70', '3', '45', '62', '55']\n",
        "```\n",
        "\n",
        "First you'll need to handle processing the input image such that it can be used in your network. \n",
        "\n",
        "## Image Preprocessing\n",
        "\n",
        "You'll want to use `PIL` to load the image ([documentation](https://pillow.readthedocs.io/en/latest/reference/Image.html)). It's best to write a function that preprocesses the image so it can be used as input for the model. This function should process the images in the same manner used for training. \n",
        "\n",
        "First, resize the images where the shortest side is 256 pixels, keeping the aspect ratio. This can be done with the [`thumbnail`](http://pillow.readthedocs.io/en/3.1.x/reference/Image.html#PIL.Image.Image.thumbnail) or [`resize`](http://pillow.readthedocs.io/en/3.1.x/reference/Image.html#PIL.Image.Image.thumbnail) methods. Then you'll need to crop out the center 224x224 portion of the image.\n",
        "\n",
        "Color channels of images are typically encoded as integers 0-255, but the model expected floats 0-1. You'll need to convert the values. It's easiest with a Numpy array, which you can get from a PIL image like so `np_image = np.array(pil_image)`.\n",
        "\n",
        "As before, the network expects the images to be normalized in a specific way. For the means, it's `[0.485, 0.456, 0.406]` and for the standard deviations `[0.229, 0.224, 0.225]`. You'll want to subtract the means from each color channel, then divide by the standard deviation. \n",
        "\n",
        "And finally, PyTorch expects the color channel to be the first dimension but it's the third dimension in the PIL image and Numpy array. You can reorder dimensions using [`ndarray.transpose`](https://docs.scipy.org/doc/numpy-1.13.0/reference/generated/numpy.ndarray.transpose.html). The color channel needs to be first and retain the order of the other two dimensions."
      ]
    },
    {
      "metadata": {
        "id": "VkRvKXipSVGJ",
        "colab_type": "code",
        "colab": {}
      },
      "cell_type": "code",
      "source": [
        "def process_image(image):\n",
        "    ''' Scales, crops, and normalizes a PIL image for a PyTorch model,\n",
        "        returns an Numpy array\n",
        "    '''\n",
        "    \n",
        "    # TODO: Process a PIL image for use in a PyTorch model\n",
        "    img = Image.open(image)\n",
        "    img.thumbnail((224,224)\n",
        "    np_img = np.array(img)\n",
        "    np.img = np.img/255 \n",
        "    "
      ],
      "execution_count": 0,
      "outputs": []
    },
    {
      "metadata": {
        "id": "jnSU4j-l9vJ0",
        "colab_type": "code",
        "outputId": "3c3f0fc1-5eb8-4114-d8e8-0b5f4b2aba19",
        "colab": {
          "base_uri": "https://localhost:8080/",
          "height": 136
        }
      },
      "cell_type": "code",
      "source": [
        "arr = np.array([[[56,77,240,88],[88,23,89,255]],\n",
        "               [[100,200,240,88],[88,0,89,255]]])\n",
        "arr/255\n",
        "print(arr/255)\n",
        "print(arr[:,:,0])"
      ],
      "execution_count": 0,
      "outputs": [
        {
          "output_type": "stream",
          "text": [
            "[[[0.21960784 0.30196078 0.94117647 0.34509804]\n",
            "  [0.34509804 0.09019608 0.34901961 1.        ]]\n",
            "\n",
            " [[0.39215686 0.78431373 0.94117647 0.34509804]\n",
            "  [0.34509804 0.         0.34901961 1.        ]]]\n",
            "[[ 56  88]\n",
            " [100  88]]\n"
          ],
          "name": "stdout"
        }
      ]
    },
    {
      "metadata": {
        "id": "IH1WjuhoSVGM",
        "colab_type": "text"
      },
      "cell_type": "markdown",
      "source": [
        "To check your work, the function below converts a PyTorch tensor and displays it in the notebook. If your `process_image` function works, running the output through this function should return the original image (except for the cropped out portions)."
      ]
    },
    {
      "metadata": {
        "id": "6JWnWixUSVGO",
        "colab_type": "code",
        "colab": {}
      },
      "cell_type": "code",
      "source": [
        "def imshow(image, ax=None, title=None):\n",
        "    \"\"\"Imshow for Tensor.\"\"\"\n",
        "    if ax is None:\n",
        "        fig, ax = plt.subplots()\n",
        "    \n",
        "    # PyTorch tensors assume the color channel is the first dimension\n",
        "    # but matplotlib assumes is the third dimension\n",
        "    image = image.numpy().transpose((1, 2, 0))\n",
        "    \n",
        "    # Undo preprocessing\n",
        "    mean = np.array([0.485, 0.456, 0.406])\n",
        "    std = np.array([0.229, 0.224, 0.225])\n",
        "    image = std * image + mean\n",
        "    \n",
        "    # Image needs to be clipped between 0 and 1 or it looks like noise when displayed\n",
        "    image = np.clip(image, 0, 1)\n",
        "    \n",
        "    ax.imshow(image)\n",
        "    \n",
        "    return ax"
      ],
      "execution_count": 0,
      "outputs": []
    },
    {
      "metadata": {
        "id": "4M5zHbDDSVGR",
        "colab_type": "text"
      },
      "cell_type": "markdown",
      "source": [
        "## Class Prediction\n",
        "\n",
        "Once you can get images in the correct format, it's time to write a function for making predictions with your model. A common practice is to predict the top 5 or so (usually called top-$K$) most probable classes. You'll want to calculate the class probabilities then find the $K$ largest values.\n",
        "\n",
        "To get the top $K$ largest values in a tensor use [`x.topk(k)`](http://pytorch.org/docs/master/torch.html#torch.topk). This method returns both the highest `k` probabilities and the indices of those probabilities corresponding to the classes. You need to convert from these indices to the actual class labels using `class_to_idx` which hopefully you added to the model or from an `ImageFolder` you used to load the data ([see here](#Save-the-checkpoint)). Make sure to invert the dictionary so you get a mapping from index to class as well.\n",
        "\n",
        "Again, this method should take a path to an image and a model checkpoint, then return the probabilities and classes.\n",
        "\n",
        "```python\n",
        "probs, classes = predict(image_path, model)\n",
        "print(probs)\n",
        "print(classes)\n",
        "> [ 0.01558163  0.01541934  0.01452626  0.01443549  0.01407339]\n",
        "> ['70', '3', '45', '62', '55']\n",
        "```"
      ]
    },
    {
      "metadata": {
        "id": "RNGlf8mYSVGS",
        "colab_type": "code",
        "colab": {}
      },
      "cell_type": "code",
      "source": [
        "def predict(image_path, model, topk=5):\n",
        "    ''' Predict the class (or classes) of an image using a trained deep learning model.\n",
        "    '''\n",
        "    \n",
        "    # TODO: Implement the code to predict the class from an image file"
      ],
      "execution_count": 0,
      "outputs": []
    },
    {
      "metadata": {
        "id": "JwwgBpgwSVGX",
        "colab_type": "text"
      },
      "cell_type": "markdown",
      "source": [
        "## Sanity Checking\n",
        "\n",
        "Now that you can use a trained model for predictions, check to make sure it makes sense. Even if the validation accuracy is high, it's always good to check that there aren't obvious bugs. Use `matplotlib` to plot the probabilities for the top 5 classes as a bar graph, along with the input image. It should look like this:\n",
        "\n",
        "<img src='https://github.com/Biboswan/pytorch_challenge/blob/master/assets/inference_example.png?raw=1' width=300px>\n",
        "\n",
        "You can convert from the class integer encoding to actual flower names with the `cat_to_name.json` file (should have been loaded earlier in the notebook). To show a PyTorch tensor as an image, use the `imshow` function defined above."
      ]
    },
    {
      "metadata": {
        "id": "9eQ_ptkhSVGY",
        "colab_type": "code",
        "colab": {}
      },
      "cell_type": "code",
      "source": [
        "# TODO: Display an image along with the top 5 classes"
      ],
      "execution_count": 0,
      "outputs": []
    }
  ]
}